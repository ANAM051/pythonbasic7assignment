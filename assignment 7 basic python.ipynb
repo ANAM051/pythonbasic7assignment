{
 "cells": [
  {
   "cell_type": "code",
   "execution_count": null,
   "id": "b3cb79e6",
   "metadata": {},
   "outputs": [],
   "source": [
    "1.What is the name of the feature responsible for generating Regex objects?\n",
    "\n",
    "  re library is used for generating Regex objects."
   ]
  },
  {
   "cell_type": "code",
   "execution_count": null,
   "id": "7e5e202e",
   "metadata": {},
   "outputs": [],
   "source": [
    "2.Why do raw strings often appear in Regex objects?\n",
    "  raw strings used in Regex because to make sure backslashes are not handled in\n",
    "    any special   way\n",
    "    \n",
    "  "
   ]
  },
  {
   "cell_type": "code",
   "execution_count": null,
   "id": "39d1afc0",
   "metadata": {},
   "outputs": [],
   "source": [
    "3.What is the return value of the search() method?\n",
    "  re.search"
   ]
  },
  {
   "cell_type": "code",
   "execution_count": null,
   "id": "cc1ccc40",
   "metadata": {},
   "outputs": [],
   "source": [
    "4. From a Match item, how do you get the actual strings that match the pattern?\n",
    "  I have to use ^ and $ sign to match the string from starting to ending."
   ]
  },
  {
   "cell_type": "code",
   "execution_count": null,
   "id": "f95339ad",
   "metadata": {},
   "outputs": [],
   "source": [
    "5 Group 0 = date\n",
    "  Group 1 = month\n",
    "  Group 2 = year"
   ]
  },
  {
   "cell_type": "code",
   "execution_count": null,
   "id": "00f6ff32",
   "metadata": {},
   "outputs": [],
   "source": [
    "6"
   ]
  },
  {
   "cell_type": "code",
   "execution_count": null,
   "id": "cd230ab3",
   "metadata": {},
   "outputs": [],
   "source": [
    "7"
   ]
  },
  {
   "cell_type": "code",
   "execution_count": null,
   "id": "6b948fad",
   "metadata": {},
   "outputs": [],
   "source": [
    "8."
   ]
  },
  {
   "cell_type": "code",
   "execution_count": null,
   "id": "83571661",
   "metadata": {},
   "outputs": [],
   "source": [
    "9. In Regex | means or .ex either a will be true or b will be true ,a|b"
   ]
  },
  {
   "cell_type": "code",
   "execution_count": null,
   "id": "398c1070",
   "metadata": {},
   "outputs": [],
   "source": [
    "10.In Regex + means 1 or more repetitions,and * means 0 or more repetition."
   ]
  },
  {
   "cell_type": "code",
   "execution_count": null,
   "id": "2d34e2b8",
   "metadata": {},
   "outputs": [],
   "source": [
    "11.In Regex {4}means value be repeated 4 times ,and {4,5} means 4th value to be repeated 5 times."
   ]
  },
  {
   "cell_type": "code",
   "execution_count": null,
   "id": "a1487a18",
   "metadata": {},
   "outputs": [],
   "source": [
    "12.In regex \\d means decimal digit,\\w means word character and \\s means space bar"
   ]
  },
  {
   "cell_type": "code",
   "execution_count": null,
   "id": "77aaefd6",
   "metadata": {},
   "outputs": [],
   "source": [
    "13.\\D signifies not a decimaal digit, \\W signifies not a word character, \\S signifies not \n",
    "a spacebar.\n"
   ]
  },
  {
   "cell_type": "code",
   "execution_count": null,
   "id": "9fcdaf5f",
   "metadata": {},
   "outputs": [],
   "source": [
    "14.(.*?) means * will appear 0 or 1 times and "
   ]
  },
  {
   "cell_type": "code",
   "execution_count": null,
   "id": "476d89af",
   "metadata": {},
   "outputs": [],
   "source": [
    "15.\\w is used for matching both numbers and lowercae letters."
   ]
  },
  {
   "cell_type": "code",
   "execution_count": null,
   "id": "f7611211",
   "metadata": {},
   "outputs": [],
   "source": [
    "16."
   ]
  },
  {
   "cell_type": "code",
   "execution_count": null,
   "id": "6d2ea9de",
   "metadata": {},
   "outputs": [],
   "source": [
    "17. . character matches( a-zA-Z0-9_) ."
   ]
  },
  {
   "cell_type": "code",
   "execution_count": null,
   "id": "0aadf979",
   "metadata": {},
   "outputs": [],
   "source": [
    "18.11104"
   ]
  },
  {
   "cell_type": "code",
   "execution_count": null,
   "id": "341b9f3a",
   "metadata": {},
   "outputs": [],
   "source": [
    "19.It allows you to format the regular expression more clearly."
   ]
  },
  {
   "cell_type": "code",
   "execution_count": null,
   "id": "8a74468b",
   "metadata": {},
   "outputs": [],
   "source": [
    "20."
   ]
  },
  {
   "cell_type": "code",
   "execution_count": 12,
   "id": "aa9cc1f0",
   "metadata": {},
   "outputs": [
    {
     "ename": "SyntaxError",
     "evalue": "EOL while scanning string literal (3756460417.py, line 3)",
     "output_type": "error",
     "traceback": [
      "\u001b[1;36m  Input \u001b[1;32mIn [12]\u001b[1;36m\u001b[0m\n\u001b[1;33m    matches=re.search(r\"^)\u001b[0m\n\u001b[1;37m                          ^\u001b[0m\n\u001b[1;31mSyntaxError\u001b[0m\u001b[1;31m:\u001b[0m EOL while scanning string literal\n"
     ]
    }
   ],
   "source": [
    "import re\n",
    "number=int(input(\"enter the no: \"))\n",
    "matches=re.search(r\"^)\n"
   ]
  },
  {
   "cell_type": "code",
   "execution_count": 17,
   "id": "b26f7359",
   "metadata": {},
   "outputs": [
    {
     "name": "stdout",
     "output_type": "stream",
     "text": [
      "your name please: Watanable\n",
      "invalid name\n"
     ]
    }
   ],
   "source": [
    "21\n",
    "import re\n",
    "name=input(\"your name please: \")\n",
    "matches = re.search(r\"^[A-Z][A-Za-z]+ (Watanable)$\", name)\n",
    "if matches:           \n",
    "             print(\"valid name\")\n",
    "else :\n",
    "        print(\"invalid name\")"
   ]
  },
  {
   "cell_type": "code",
   "execution_count": 18,
   "id": "0c936bba",
   "metadata": {},
   "outputs": [
    {
     "name": "stdout",
     "output_type": "stream",
     "text": [
      "enter your statement: Carol eats 7 ctas\n",
      "it is matching\n"
     ]
    }
   ],
   "source": [
    "22\n",
    "import re\n",
    "statement=input(\"enter your statement: \")\n",
    "matches=re.search(r\"^[Alice eats? apples] | [Bob pets cats] |[Carol throws baseballs]$\", statement)\n",
    "if matches:\n",
    "    print(\"it is matching\")\n",
    "else:\n",
    "    print(\"it is not matching\")\n"
   ]
  },
  {
   "cell_type": "code",
   "execution_count": null,
   "id": "de143642",
   "metadata": {},
   "outputs": [],
   "source": []
  },
  {
   "cell_type": "code",
   "execution_count": null,
   "id": "7d99b62a",
   "metadata": {},
   "outputs": [],
   "source": []
  },
  {
   "cell_type": "code",
   "execution_count": null,
   "id": "bd717df0",
   "metadata": {},
   "outputs": [],
   "source": []
  }
 ],
 "metadata": {
  "kernelspec": {
   "display_name": "Python 3 (ipykernel)",
   "language": "python",
   "name": "python3"
  },
  "language_info": {
   "codemirror_mode": {
    "name": "ipython",
    "version": 3
   },
   "file_extension": ".py",
   "mimetype": "text/x-python",
   "name": "python",
   "nbconvert_exporter": "python",
   "pygments_lexer": "ipython3",
   "version": "3.9.12"
  }
 },
 "nbformat": 4,
 "nbformat_minor": 5
}
